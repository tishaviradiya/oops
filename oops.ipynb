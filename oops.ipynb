{
  "nbformat": 4,
  "nbformat_minor": 0,
  "metadata": {
    "colab": {
      "provenance": []
    },
    "kernelspec": {
      "name": "python3",
      "display_name": "Python 3"
    },
    "language_info": {
      "name": "python"
    }
  },
  "cells": [
    {
      "cell_type": "code",
      "execution_count": null,
      "metadata": {
        "id": "cbeY4xGSFH5r"
      },
      "outputs": [],
      "source": [
        "1. Object‑Oriented Programming (OOP)\n",
        "A programming paradigm modeling real‑world entities as objects, combining data (attributes) and behavior (methods). Key benefits include modularity, reusability, maintainability, and scalability"
      ]
    },
    {
      "cell_type": "code",
      "source": [
        "2‑3. Class vs Object in OOP\n",
        "Class: Blueprint or template defining attributes and methods.\n",
        "\n",
        "Object: A runtime instance of a class, holding its own data state"
      ],
      "metadata": {
        "id": "IzmWoAXMFhG-"
      },
      "execution_count": null,
      "outputs": []
    },
    {
      "cell_type": "code",
      "source": [
        "4. Abstraction vs Encapsulation\n",
        "Abstraction: Exposing only necessary details; hides internal logic.\n",
        "\n",
        "Encapsulation: Binding data and methods while hiding internal state, often via private attributes and getters/setters"
      ],
      "metadata": {
        "id": "bxG5v9ByFlBz"
      },
      "execution_count": null,
      "outputs": []
    },
    {
      "cell_type": "code",
      "source": [
        "5. Dunder Methods in Python\n",
        "Special methods surrounded by double underscores, e.g. __init__, __str__, __repr__, __call__, __del__. They enable operator overloading, object lifecycle control, and built-in behavior customization"
      ],
      "metadata": {
        "id": "84QKZFT5FnWz"
      },
      "execution_count": null,
      "outputs": []
    },
    {
      "cell_type": "code",
      "source": [
        "6. Inheritance in OOP\n",
        "Mechanism where a class (child/subclass) derives properties and behaviors from another (parent/base), enabling code reuse and hierarchical relationships"
      ],
      "metadata": {
        "id": "jfwGfvcaFpnV"
      },
      "execution_count": null,
      "outputs": []
    },
    {
      "cell_type": "code",
      "source": [
        "7. Polymorphism in OOP\n",
        "Objects of different types respond to the same interface in their own way—for instance, multiple subclasses implementing the same method name with different behaviors"
      ],
      "metadata": {
        "id": "cJNUa4NoFs3i"
      },
      "execution_count": null,
      "outputs": []
    },
    {
      "cell_type": "code",
      "source": [
        "8. Encapsulation in Python\n",
        "Achieved through private attributes (using leading __), controlling access via getters/setters, and exposing only necessary interface methods"
      ],
      "metadata": {
        "id": "2T1rBo4AFutS"
      },
      "execution_count": null,
      "outputs": []
    },
    {
      "cell_type": "code",
      "source": [
        "9. Constructor in Python\n",
        "__init__ is the initializer method called when creating a new object. It sets up instance-specific attributes and initial state"
      ],
      "metadata": {
        "id": "UB37RMY-FwaG"
      },
      "execution_count": null,
      "outputs": []
    },
    {
      "cell_type": "code",
      "source": [
        "10. Class Methods vs Static Methods\n",
        "Instance method: First param self, operates on instance.\n",
        "\n",
        "@classmethod: First param cls, operates on the class itself, often used for alternative constructors.\n",
        "\n",
        "@staticmethod: No self or cls, utility functions grouped with class for logical coherence"
      ],
      "metadata": {
        "id": "_OBwkulvFxXQ"
      },
      "execution_count": null,
      "outputs": []
    },
    {
      "cell_type": "code",
      "source": [
        "11. Method Overloading in Python\n",
        "Python does not support traditional compile-time method overloading. You can simulate it using default arguments or *args, **kwargs to handle variable signatures."
      ],
      "metadata": {
        "id": "Jpkn5WVEFzzJ"
      },
      "execution_count": null,
      "outputs": []
    },
    {
      "cell_type": "code",
      "source": [
        "12. Method Overriding in OOP\n",
        "Subclasses redefine an inherited method to provide specialized behavior, while maintaining the same name and signature"
      ],
      "metadata": {
        "id": "Js56soPrF1Zo"
      },
      "execution_count": null,
      "outputs": []
    },
    {
      "cell_type": "code",
      "source": [
        "13. @property Decorator in Python\n",
        "Used to define managed attributes—makes method results appear as attribute access (getter/setter syntax), enabling encapsulation with simple syntax."
      ],
      "metadata": {
        "id": "SppQCyeUF3Ji"
      },
      "execution_count": null,
      "outputs": []
    },
    {
      "cell_type": "code",
      "source": [
        "14. Why Polymorphism Is Important\n",
        "It enhances code flexibility and extensibility—multiple object types can be treated uniformly under a shared interface, simplifying code designs and future extensions"
      ],
      "metadata": {
        "id": "VAb3C4B-F4sm"
      },
      "execution_count": null,
      "outputs": []
    },
    {
      "cell_type": "code",
      "source": [
        "\n",
        "15. Abstract Class in Python\n",
        "Defined using abc.ABC and @abstractmethod, it enforces that subclasses implement specific methods, preventing instantiation of the base class itself"
      ],
      "metadata": {
        "id": "WZs-f4TDF6U4"
      },
      "execution_count": null,
      "outputs": []
    },
    {
      "cell_type": "code",
      "source": [
        "16. Advantages of OOP\n",
        "Improved modularity and code organization\n",
        "\n",
        "Easier maintenance and updates\n",
        "\n",
        "Higher code reuse via inheritance and polymorphism\n",
        "\n",
        "Better alignment with real-world modeling"
      ],
      "metadata": {
        "id": "_-HdKim5F9Gu"
      },
      "execution_count": null,
      "outputs": []
    },
    {
      "cell_type": "code",
      "source": [
        "17. Class Variable vs Instance Variable\n",
        "Class variable: Shared across all instances of a class.\n",
        "\n",
        "Instance variable: Unique to each object from __init__ attribute definitions"
      ],
      "metadata": {
        "id": "QhtqdXZGF-6S"
      },
      "execution_count": null,
      "outputs": []
    },
    {
      "cell_type": "code",
      "source": [
        "18. Multiple Inheritance in Python\n",
        "A class can inherit from more than one parent class, allowing combined behavior and attributes. Python’s method resolution order (MRO) defines the lookup hierarchy."
      ],
      "metadata": {
        "id": "VWngVDbWGArJ"
      },
      "execution_count": null,
      "outputs": []
    },
    {
      "cell_type": "code",
      "source": [
        "19. Purpose of __str__ and __repr__\n",
        "__repr__: Unambiguous representation for developers (often matches eval syntax).\n",
        "\n",
        "__str__: Friendly or readable string for end user/display when print() is used"
      ],
      "metadata": {
        "id": "IIO5oBNIGCI_"
      },
      "execution_count": null,
      "outputs": []
    },
    {
      "cell_type": "code",
      "source": [
        "20. Significance of super()\n",
        "Used to call methods from a parent class—commonly for initializing inherited attributes (super().__init__()) and preserving correct method resolution order in multiple inheritance"
      ],
      "metadata": {
        "id": "TmgAUmnWGD2l"
      },
      "execution_count": null,
      "outputs": []
    },
    {
      "cell_type": "code",
      "source": [
        "\n",
        "21. Significance of __del__\n",
        "Optional destructor method called when an object is about to be destroyed. Useful for cleanup (like closing files/connections), but not commonly used due to unpredictability of garbage collection."
      ],
      "metadata": {
        "id": "kF93Qya9GFs9"
      },
      "execution_count": null,
      "outputs": []
    },
    {
      "cell_type": "code",
      "source": [
        "22. Difference between @staticmethod and @classmethod\n",
        "@staticmethod: Function related to the class but not dependent on class or instance state.\n",
        "\n",
        "@classmethod: Receives class (cls) and can modify class-level attributes or create new instances."
      ],
      "metadata": {
        "id": "OmVe2JU_GHRV"
      },
      "execution_count": null,
      "outputs": []
    },
    {
      "cell_type": "code",
      "source": [
        "23. Polymorphism with Inheritance in Python\n",
        "Subclasses inherit a method signature but override it. You can hold references to the base class, and at runtime different subclass implementations execute depending on object type."
      ],
      "metadata": {
        "id": "KF25iVuIGI26"
      },
      "execution_count": null,
      "outputs": []
    },
    {
      "cell_type": "code",
      "source": [
        "24. Method Chaining in Python OOP\n",
        "Design style where methods return self, allowing multiple method calls on the same object in a single expression (e.g. obj.method1().method2())."
      ],
      "metadata": {
        "id": "NOnXP2qtGKex"
      },
      "execution_count": null,
      "outputs": []
    },
    {
      "cell_type": "code",
      "source": [
        "25. Purpose of __call__ Method\n",
        "Allows an instance of a class to be called like a function. Defining __call__(self, ...) makes the object callable."
      ],
      "metadata": {
        "id": "jjZwzAsQGMB6"
      },
      "execution_count": null,
      "outputs": []
    },
    {
      "cell_type": "code",
      "source": [
        "class Animal:\n",
        "    def speak(self):\n",
        "        print(\"Some generic animal sound\")\n",
        "\n",
        "class Dog(Animal):\n",
        "    def speak(self):\n",
        "        print(\"Bark\")\n",
        "\n",
        "# Usage\n",
        "dog = Dog()\n",
        "dog.speak()  # Bark\n"
      ],
      "metadata": {
        "id": "BJJN0WvKGNaW"
      },
      "execution_count": null,
      "outputs": []
    },
    {
      "cell_type": "code",
      "source": [
        "from abc import ABC, abstractmethod\n",
        "\n",
        "class Shape(ABC):\n",
        "    @abstractmethod\n",
        "    def area(self):\n",
        "        pass\n",
        "\n",
        "class Circle(Shape):\n",
        "    def __init__(self, radius):\n",
        "        self.radius = radius\n",
        "    def area(self):\n",
        "        return 3.14 * self.radius ** 2\n",
        "\n",
        "class Rectangle(Shape):\n",
        "    def __init__(self, width, height):\n",
        "        self.width = width\n",
        "        self.height = height\n",
        "    def area(self):\n",
        "        return self.width * self.height\n",
        "\n",
        "# Usage\n",
        "print(Circle(5).area())     # 78.5\n",
        "print(Rectangle(4, 6).area())  # 24\n"
      ],
      "metadata": {
        "id": "NnNLcV_TGhwA"
      },
      "execution_count": null,
      "outputs": []
    },
    {
      "cell_type": "code",
      "source": [
        "class Vehicle:\n",
        "    def __init__(self, type):\n",
        "        self.type = type\n",
        "\n",
        "class Car(Vehicle):\n",
        "    def __init__(self, model):\n",
        "        super().__init__(type=\"Car\")\n",
        "        self.model = model\n",
        "\n",
        "class ElectricCar(Car):\n",
        "    def __init__(self, model, battery_kwh):\n",
        "        super().__init__(model)\n",
        "        self.battery_kwh = battery_kwh\n",
        "\n",
        "ec = ElectricCar(\"Tesla Model S\", 100)\n",
        "print(ec.type, ec.model, ec.battery_kwh)  # Car Tesla Model S 100\n"
      ],
      "metadata": {
        "id": "Qvz1DBo2GiTz"
      },
      "execution_count": null,
      "outputs": []
    },
    {
      "cell_type": "code",
      "source": [
        "class Bird:\n",
        "    def fly(self):\n",
        "        print(\"Flying somehow\")\n",
        "\n",
        "class Sparrow(Bird):\n",
        "    def fly(self):\n",
        "        print(\"Sparrow flying\")\n",
        "\n",
        "class Penguin(Bird):\n",
        "    def fly(self):\n",
        "        print(\"Penguin can't fly\")\n",
        "\n",
        "def let_fly(bird: Bird):\n",
        "    bird.fly()\n",
        "\n",
        "let_fly(Sparrow())  # Sparrow flying\n",
        "let_fly(Penguin())  # Penguin can't fly\n"
      ],
      "metadata": {
        "id": "8Id59Ro9Gj9Y"
      },
      "execution_count": null,
      "outputs": []
    },
    {
      "cell_type": "code",
      "source": [
        "class BankAccount:\n",
        "    def __init__(self, balance=0):\n",
        "        self.__balance = balance\n",
        "\n",
        "    def deposit(self, amount):\n",
        "        self.__balance += amount\n",
        "\n",
        "    def withdraw(self, amount):\n",
        "        if amount > self.__balance:\n",
        "            print(\"Insufficient funds\")\n",
        "        else:\n",
        "            self.__balance -= amount\n",
        "\n",
        "    def check_balance(self):\n",
        "        return self.__balance\n",
        "\n",
        "acc = BankAccount(100)\n",
        "acc.deposit(50)\n",
        "acc.withdraw(30)\n",
        "print(acc.check_balance())  # 120\n"
      ],
      "metadata": {
        "id": "IdjHTvIxGlXC"
      },
      "execution_count": null,
      "outputs": []
    },
    {
      "cell_type": "code",
      "source": [
        "class Instrument:\n",
        "    def play(self):\n",
        "        print(\"Playing instrument sound\")\n",
        "\n",
        "class Guitar(Instrument):\n",
        "    def play(self):\n",
        "        print(\"Strumming the guitar\")\n",
        "\n",
        "class Piano(Instrument):\n",
        "    def play(self):\n",
        "        print(\"Playing piano keys\")\n",
        "\n",
        "for inst in (Guitar(), Piano()):\n",
        "    inst.play()\n"
      ],
      "metadata": {
        "id": "8wat2_OBGnEN"
      },
      "execution_count": null,
      "outputs": []
    },
    {
      "cell_type": "code",
      "source": [
        "class MathOperations:\n",
        "    @classmethod\n",
        "    def add_numbers(cls, a, b):\n",
        "        return a + b\n",
        "\n",
        "    @staticmethod\n",
        "    def subtract_numbers(a, b):\n",
        "        return a - b\n",
        "\n",
        "print(MathOperations.add_numbers(5, 3))        # 8\n",
        "print(MathOperations.subtract_numbers(5, 3))   # 2\n"
      ],
      "metadata": {
        "id": "kRJvTrD9Gok3"
      },
      "execution_count": null,
      "outputs": []
    },
    {
      "cell_type": "code",
      "source": [
        "class Person:\n",
        "    count = 0\n",
        "\n",
        "    def __init__(self, name):\n",
        "        self.name = name\n",
        "        Person.count += 1\n",
        "\n",
        "    @classmethod\n",
        "    def total_persons(cls):\n",
        "        return cls.count\n",
        "\n",
        "p1 = Person(\"Alice\")\n",
        "p2 = Person(\"Bob\")\n",
        "print(Person.total_persons())  # 2\n"
      ],
      "metadata": {
        "id": "vVFjIKvyGrll"
      },
      "execution_count": null,
      "outputs": []
    },
    {
      "cell_type": "code",
      "source": [
        "class Fraction:\n",
        "    def __init__(self, numerator, denominator):\n",
        "        self.numerator = numerator\n",
        "        self.denominator = denominator\n",
        "\n",
        "    def __str__(self):\n",
        "        return f\"{self.numerator}/{self.denominator}\"\n",
        "\n",
        "print(Fraction(3, 4))  # 3/4\n"
      ],
      "metadata": {
        "id": "N4ZUZl52GtRk"
      },
      "execution_count": null,
      "outputs": []
    },
    {
      "cell_type": "code",
      "source": [
        "class Vector:\n",
        "    def __init__(self, x, y):\n",
        "        self.x = x\n",
        "        self.y = y\n",
        "\n",
        "    def __add__(self, other):\n",
        "        return Vector(self.x + other.x, self.y + other.y)\n",
        "\n",
        "    def __str__(self):\n",
        "        return f\"Vector({self.x}, {self.y})\"\n",
        "\n",
        "v1 = Vector(1, 2)\n",
        "v2 = Vector(3, 4)\n",
        "print(v1 + v2)  # Vector(4, 6)\n"
      ],
      "metadata": {
        "id": "N0vrJFf0Guy3"
      },
      "execution_count": null,
      "outputs": []
    },
    {
      "cell_type": "code",
      "source": [
        "class Person:\n",
        "    def __init__(self, name, age):\n",
        "        self.name = name\n",
        "        self.age = age\n",
        "\n",
        "    def greet(self):\n",
        "        print(f\"Hello, my name is {self.name} and I am {self.age} years old.\")\n",
        "\n",
        "p = Person(\"John\", 30)\n",
        "p.greet()\n"
      ],
      "metadata": {
        "id": "57I0dwnNGwE5"
      },
      "execution_count": null,
      "outputs": []
    },
    {
      "cell_type": "code",
      "source": [
        "class Student:\n",
        "    def __init__(self, name, grades):\n",
        "        self.name = name\n",
        "        self.grades = grades\n",
        "\n",
        "    def average_grade(self):\n",
        "        return sum(self.grades) / len(self.grades)\n",
        "\n",
        "s = Student(\"Alice\", [90, 85, 78])\n",
        "print(s.average_grade())  # 84.3333\n"
      ],
      "metadata": {
        "id": "vec896WXGyTJ"
      },
      "execution_count": null,
      "outputs": []
    },
    {
      "cell_type": "code",
      "source": [
        "class Rectangle:\n",
        "    def __init__(self):\n",
        "        self.width = 0\n",
        "        self.height = 0\n",
        "\n",
        "    def set_dimensions(self, width, height):\n",
        "        self.width = width\n",
        "        self.height = height\n",
        "\n",
        "    def area(self):\n",
        "        return self.width * self.height\n",
        "\n",
        "r = Rectangle()\n",
        "r.set_dimensions(5, 10)\n",
        "print(r.area())  # 50\n"
      ],
      "metadata": {
        "id": "r0wW9MHfGzlg"
      },
      "execution_count": null,
      "outputs": []
    },
    {
      "cell_type": "code",
      "source": [
        "class Employee:\n",
        "    def __init__(self, hours_worked, hourly_rate):\n",
        "        self.hours_worked = hours_worked\n",
        "        self.hourly_rate = hourly_rate\n",
        "\n",
        "    def calculate_salary(self):\n",
        "        return self.hours_worked * self.hourly_rate\n",
        "\n",
        "class Manager(Employee):\n",
        "    def __init__(self, hours_worked, hourly_rate, bonus):\n",
        "        super().__init__(hours_worked, hourly_rate)\n",
        "        self.bonus = bonus\n",
        "\n",
        "    def calculate_salary(self):\n",
        "        base = super().calculate_salary()\n",
        "        return base + self.bonus\n",
        "\n",
        "mgr = Manager(160, 50, 1000)\n",
        "print(mgr.calculate_salary())  # 9000\n"
      ],
      "metadata": {
        "id": "LoBGNNGwG04p"
      },
      "execution_count": null,
      "outputs": []
    },
    {
      "cell_type": "code",
      "source": [
        "class Product:\n",
        "    def __init__(self, name, price, quantity):\n",
        "        self.name = name\n",
        "        self.price = price\n",
        "        self.quantity = quantity\n",
        "\n",
        "    def total_price(self):\n",
        "        return self.price * self.quantity\n",
        "\n",
        "p = Product(\"Widget\", 10.5, 4)\n",
        "print(p.total_price())  # 42.0\n"
      ],
      "metadata": {
        "id": "aqP4nc1aG2UF"
      },
      "execution_count": null,
      "outputs": []
    },
    {
      "cell_type": "code",
      "source": [
        "from abc import ABC, abstractmethod\n",
        "\n",
        "class Animal(ABC):\n",
        "    @abstractmethod\n",
        "    def sound(self):\n",
        "        pass\n",
        "\n",
        "class Cow(Animal):\n",
        "    def sound(self):\n",
        "        print(\"Moo\")\n",
        "\n",
        "class Sheep(Animal):\n",
        "    def sound(self):\n",
        "        print(\"Baa\")\n",
        "\n",
        "cow = Cow(); cow.sound()    # Moo\n",
        "sheep = Sheep(); sheep.sound()  # Baa\n"
      ],
      "metadata": {
        "id": "KHZF2ILLG3rN"
      },
      "execution_count": null,
      "outputs": []
    },
    {
      "cell_type": "code",
      "source": [
        "class Book:\n",
        "    def __init__(self, title, author, year_published):\n",
        "        self.title = title\n",
        "        self.author = author\n",
        "        self.year_published = year_published\n",
        "\n",
        "    def get_book_info(self):\n",
        "        return f\"Title: {self.title}, Author: {self.author}, Year: {self.year_published}\"\n",
        "\n",
        "b = Book(\"1984\", \"George Orwell\", 1949)\n",
        "print(b.get_book_info())\n"
      ],
      "metadata": {
        "id": "dJ37WiepG6tx"
      },
      "execution_count": null,
      "outputs": []
    },
    {
      "cell_type": "code",
      "source": [
        "class House:\n",
        "    def __init__(self, address, price):\n",
        "        self.address = address\n",
        "        self.price = price\n",
        "\n",
        "class Mansion(House):\n",
        "    def __init__(self, address, price, number_of_rooms):\n",
        "        super().__init__(address, price)\n",
        "        self.number_of_rooms = number_of_rooms\n",
        "\n",
        "m = Mansion(\"123 Rich St\", 2_000_000, 10)\n",
        "print(m.address, m.price, m.number_of_rooms)\n"
      ],
      "metadata": {
        "id": "IRo6DhCJG7RX"
      },
      "execution_count": null,
      "outputs": []
    }
  ]
}